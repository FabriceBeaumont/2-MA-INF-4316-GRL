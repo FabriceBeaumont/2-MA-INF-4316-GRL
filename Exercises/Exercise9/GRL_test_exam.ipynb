{
  "cells": [
    {
      "cell_type": "markdown",
      "metadata": {
        "id": "view-in-github",
        "colab_type": "text"
      },
      "source": [
        "<a href=\"https://colab.research.google.com/github/FabriceBeaumont/2-MA-INF-4316-GRL/blob/main/Exercises/Exercise9/GRL_test_exam.ipynb\" target=\"_parent\"><img src=\"https://colab.research.google.com/assets/colab-badge.svg\" alt=\"Open In Colab\"/></a>"
      ]
    },
    {
      "cell_type": "markdown",
      "metadata": {
        "id": "8y3br8VVugsy"
      },
      "source": [
        "# Exercise 9: MA-INF4316 Graph Representation Learning\n",
        "\n",
        "- Wintersemester 2021/2022\n",
        "- Exam: 0\n",
        "- Date 2022-01-17\n",
        "- Examiner: Dr. Pascal Welke\n",
        "\n",
        "### To be filled by the student\n",
        "- Name:                  Fabrice\n",
        "- Given Name:            Beaumont\n",
        "- Matriculation number:  2747609\n",
        "- Course of Studies:     M.Sc. (Uni Bonn)\n",
        "\n",
        "(Please enter your data here)"
      ]
    },
    {
      "cell_type": "markdown",
      "source": [
        "## Imports"
      ],
      "metadata": {
        "id": "jO1GwWSm8Q_f"
      }
    },
    {
      "cell_type": "code",
      "source": [
        "!pip install grakel"
      ],
      "metadata": {
        "colab": {
          "base_uri": "https://localhost:8080/"
        },
        "id": "Ntz1qpX28gab",
        "outputId": "54b08ec3-26bf-4768-8501-98578dec6621"
      },
      "execution_count": 2,
      "outputs": [
        {
          "output_type": "stream",
          "name": "stdout",
          "text": [
            "Collecting grakel\n",
            "  Downloading grakel-0.1.8-cp37-cp37m-manylinux2010_x86_64.whl (1.6 MB)\n",
            "\u001b[K     |████████████████████████████████| 1.6 MB 5.4 MB/s \n",
            "\u001b[?25hRequirement already satisfied: cython>=0.27.3 in /usr/local/lib/python3.7/dist-packages (from grakel) (0.29.26)\n",
            "Requirement already satisfied: numpy>=1.14.0 in /usr/local/lib/python3.7/dist-packages (from grakel) (1.19.5)\n",
            "Requirement already satisfied: six>=1.11.0 in /usr/local/lib/python3.7/dist-packages (from grakel) (1.15.0)\n",
            "Requirement already satisfied: scikit-learn>=0.19 in /usr/local/lib/python3.7/dist-packages (from grakel) (1.0.2)\n",
            "Requirement already satisfied: joblib in /usr/local/lib/python3.7/dist-packages (from grakel) (1.1.0)\n",
            "Collecting nose>=1.1.2\n",
            "  Downloading nose-1.3.7-py3-none-any.whl (154 kB)\n",
            "\u001b[K     |████████████████████████████████| 154 kB 49.5 MB/s \n",
            "\u001b[?25hRequirement already satisfied: future>=0.16.0 in /usr/local/lib/python3.7/dist-packages (from grakel) (0.16.0)\n",
            "Requirement already satisfied: scipy>=1.1.0 in /usr/local/lib/python3.7/dist-packages (from scikit-learn>=0.19->grakel) (1.4.1)\n",
            "Requirement already satisfied: threadpoolctl>=2.0.0 in /usr/local/lib/python3.7/dist-packages (from scikit-learn>=0.19->grakel) (3.0.0)\n",
            "Installing collected packages: nose, grakel\n",
            "Successfully installed grakel-0.1.8 nose-1.3.7\n"
          ]
        }
      ]
    },
    {
      "cell_type": "code",
      "source": [
        "!pip install igraph"
      ],
      "metadata": {
        "colab": {
          "base_uri": "https://localhost:8080/"
        },
        "id": "-0gbHzaR8k_M",
        "outputId": "50c18025-2d27-4e2f-f990-3f5ac0ae9a8a"
      },
      "execution_count": 4,
      "outputs": [
        {
          "output_type": "stream",
          "name": "stdout",
          "text": [
            "Collecting igraph\n",
            "  Downloading igraph-0.9.9-cp37-cp37m-manylinux_2_17_x86_64.manylinux2014_x86_64.whl (3.1 MB)\n",
            "\u001b[K     |████████████████████████████████| 3.1 MB 5.4 MB/s \n",
            "\u001b[?25hCollecting texttable>=1.6.2\n",
            "  Downloading texttable-1.6.4-py2.py3-none-any.whl (10 kB)\n",
            "Installing collected packages: texttable, igraph\n",
            "Successfully installed igraph-0.9.9 texttable-1.6.4\n"
          ]
        }
      ]
    },
    {
      "cell_type": "code",
      "source": [
        "import grakel\n",
        "from grakel.datasets import fetch_dataset\n",
        "import igraph\n",
        "import numpy as np\n",
        "import matplotlib.pyplot as plt"
      ],
      "metadata": {
        "id": "PiBH_bPX8QLj"
      },
      "execution_count": 5,
      "outputs": []
    },
    {
      "cell_type": "markdown",
      "metadata": {
        "id": "oMQb25wgugs2"
      },
      "source": [
        "# Task 1 - Intersection Kernels"
      ]
    },
    {
      "cell_type": "markdown",
      "source": [
        "Let $X$ be a set. Show that the intersection kernel on histograms $X\\in\\mathbb{N}^{\\mathcal{X}}$:\n",
        "$$ k(A, B) = \\sum\\limits_{x\\in\\mathcal{X}} \\min\\big( \\Gamma_x(A), \\Gamma_x(B) \\big)$$\n",
        "is a kernel. Recall from Lecture 8 that $\\Gamma_x (A) \\in\\mathbb{N}^{\\mathcal{X}}$  gives the number of times that $x$ is contained in $A\\in\\mathbb{N}^{\\mathcal{X}}$.\n",
        "\n",
        "**Hint:** Try to create an (infinite dimensional) embedding $\\Phi:\\mathbb{N}^{\\mathcal{X}}:\\{0,1\\}^{\\infty}$\n",
        "explicitly."
      ],
      "metadata": {
        "id": "jDwdpIn40I8_"
      }
    },
    {
      "cell_type": "markdown",
      "source": [
        "### Solution of task 1:"
      ],
      "metadata": {
        "id": "Y5pXkVI00y3R"
      }
    },
    {
      "cell_type": "markdown",
      "source": [
        "I will assume that $\\mathcal{X}$ is of finite size and we can write $\\mathcal{X} = \\{x_0,\\dots, x_{|\\mathcal{X}|-1} \\}$.\n",
        "\n",
        "In words, the intersetion kernel $k$ sums up the least occurrences in both sets of all elements. The minimum is zero if and only if the current element is not present in at least one of the sets. Thus the sum is zero, if and only if the sets are disjoint. When constructing $\\Phi$, we thus require a mapping, such that the resulting vectors in $\\{0,1\\}^\\infty$ are orthogonal, if the sets are disjoint.\n",
        "\n",
        "Since $\\Phi$ needs to measure the number of occurrences of elements in the given set, the following mapping comes to mind:\n",
        "\n",
        "$$\\forall A\\in\\mathbb{N}^{\\mathcal{X}}:\\quad \\Phi(A) := \\phi^A \\in\\{0,1\\}^\\infty$$\n",
        "where\n",
        "$$ \\phi^A_{n|\\mathcal{X}|+i} = \\begin{cases}\n",
        "1 & \\text{if } n \\le \\Gamma_{x_i}(A) & \\text{($x_i$ occurs at least $n$ times in $A$)}\\\\\n",
        "0 & \\text{otherwise} & \\text{($x_i$ occurs less than $n$ times in $A$ - possibly not at all)}\n",
        "\\end{cases} $$"
      ],
      "metadata": {
        "id": "ZeUACr7002lo"
      }
    },
    {
      "cell_type": "markdown",
      "source": [
        "Note that if $n=\\Gamma_{x_i}(A) \\le \\Gamma_{x_i}(B) = n^\\prime$, then it is:\n",
        "\\begin{align*}\n",
        "    \\forall m\\le n&: \\qquad &\\phi^A_{m|\\mathcal{X}|+i} = 1 = \\phi^B_{m|\\mathcal{X}|+i}\\\\\n",
        "    \\forall n<m\\le n^\\prime&: &\\phi^A_{m|\\mathcal{X}|+i} = 0 \\neq 1 = \\phi^B_{m|\\mathcal{X}|+i}\\\\\n",
        "    \\forall n^\\prime < m&: &\\phi^A_{m|\\mathcal{X}|+i} = 0 = \\phi^B_{m|\\mathcal{X}|+i}\\\\\n",
        "\\end{align*}"
      ],
      "metadata": {
        "id": "PCMxLoq52z_I"
      }
    },
    {
      "cell_type": "markdown",
      "source": [
        "Thus for all elements $x\\in\\mathcal{X}$, $\\Phi(A)$ and $\\Phi(B)$ have exaclty $\\min\\big(\\Gamma_x(A),\\Gamma_x(B)\\big)$ common non-zero entries - and their scalar product adds all these minimums for all elements to the desired sum:\n",
        "\n",
        "$$\\implies k(A,B) = \\langle \\Phi(A), \\Phi(B) \\rangle $$"
      ],
      "metadata": {
        "id": "ONdFzMmq3qWv"
      }
    },
    {
      "cell_type": "markdown",
      "metadata": {
        "id": "0-u1u2M0ugs4"
      },
      "source": [
        "# Task 2 - Diagonal Dominance"
      ]
    },
    {
      "cell_type": "markdown",
      "source": [
        "Using grakel (or any other means you like), load the dataset `DHFR` from\n",
        "the TU Dortmund dataset collection. Choose a random 90/10 train/test split and compute the Weisfeiler Lehman graph kernel for $k = 3$ iterations and train a support vector machine.\n",
        "1. Print the test accuracy of a SVC classifier trained on the test split.\n",
        "2. Also, print the number of support vectors for each class."
      ],
      "metadata": {
        "id": "dXGFGeUp5LbU"
      }
    },
    {
      "cell_type": "code",
      "execution_count": null,
      "metadata": {
        "id": "NiWV6AKjugs4"
      },
      "outputs": [],
      "source": [
        ""
      ]
    },
    {
      "cell_type": "markdown",
      "metadata": {
        "id": "VaQeOwauugs6"
      },
      "source": [
        "## Task 2.1 - Creating Diagonally Dominant Kernels"
      ]
    },
    {
      "cell_type": "markdown",
      "source": [
        "Now, to investigate the behavior of the SVM classifier for more and more diagonally-dominant kernels, recall, that the sum of two kernel functions is a kernel function, and that the dirac delta kernel is a kernel.\n",
        "\n",
        "During the previous subtask, you should have computed a Gram matrix. You may create a (more) diagonally dominant Gram matrix, by adding a constant value to all entries of the diagonal of that Gram matrix.\n",
        "\n",
        "1. Compute the maximum value $K_m ax$ in the Gram matrix of your Weisfeiler Lehman kernel and output it.\n",
        "2. For i in $\\{0, 0.01, 0.1, 1, 10, 100\\}$, add $i\\cdot K_m ax$ to all diagonal entries of your Gram matrix and report the test accuracy of a SVM trained with\n",
        "this Gram matrix, as well as the number of support vectors for each\n",
        "class.\n",
        "3. What do you observe?"
      ],
      "metadata": {
        "id": "ZLwsPOpo5ZGA"
      }
    },
    {
      "cell_type": "markdown",
      "source": [
        "**Hint:** If you are working with grakels methods, you might wonder how “adding to the diagonal” works for the asymmetric test “Gram” matrix \n",
        "\n",
        "    wl_kernel.transform(G_test)\n",
        "\n",
        "Here, you don’t need to do anything, as this matrix contains kernel values between graphs from train and test, which means that there will be no diagonal element of the overall Gram matrix of the DHFR dataset present."
      ],
      "metadata": {
        "id": "-HfbOMhA5mGw"
      }
    },
    {
      "cell_type": "code",
      "execution_count": null,
      "metadata": {
        "id": "nWttFCI3ugs6"
      },
      "outputs": [],
      "source": [
        ""
      ]
    },
    {
      "cell_type": "markdown",
      "metadata": {
        "id": "3UNiAHpbugs7"
      },
      "source": [
        "## Task 2.2 - Additional Considerations"
      ]
    },
    {
      "cell_type": "markdown",
      "source": [
        "The above approach results in a positive semidefinite Gram matrix on the whole dataset, as well as, any subset of it. However, there are some severe issues (apart from the accuracy drop that you should have observed) with such an approach.\n",
        "1. Is the kernel that you obtain for any $i > 0$ invariant under isomorphism?"
      ],
      "metadata": {
        "id": "0FoULtXX5zsL"
      }
    },
    {
      "cell_type": "code",
      "execution_count": null,
      "metadata": {
        "id": "ZFkuYRxiugs7"
      },
      "outputs": [],
      "source": [
        ""
      ]
    },
    {
      "cell_type": "markdown",
      "metadata": {
        "id": "eaHG6xivugs7"
      },
      "source": [
        "# Task 3 - Graph Edit Distance Non-Kernels"
      ]
    },
    {
      "cell_type": "markdown",
      "source": [
        "Recall from Lecture 9 that the function\n",
        "$$ f(x,y) = \\exp\\big(-\\gamma d(x,y)\\big)$$\n",
        "can create a kernel from some distance functions $d$. This is the case, for example, for the Euclidean distance.\n",
        "Show that this does not work if $d$ is the graph edit distance. That is, show that the graph edit distance $\\hat{d}$ defined by the edit cost function $c$ on $\\Sigma_\\epsilon \u000f= \\{a, b, c, \u000f\\epsilon\\}$ given by"
      ],
      "metadata": {
        "id": "An1UOg3P57V4"
      }
    },
    {
      "cell_type": "markdown",
      "source": [
        ".   || a   | b   | c   | $\\epsilon$\n",
        "--- || --- | --- | --- | ---\n",
        "b   || 0   | 1   | 16  | 32         \n",
        "c   || 0   | 1   | 16  | 32         \n",
        "$\\epsilon$ || 0 | 1 | 16 | 32         "
      ],
      "metadata": {
        "id": "1qAEFgjE6nFU"
      }
    },
    {
      "cell_type": "markdown",
      "source": [
        "There exist three (rather simple) graphs such that the Gram matrix these three graphs for $\\exp\\big(−\\gamma d(x,y)\\big)$ is not positive semidefinite.\n",
        "\n",
        "**Hint:** Check out numpys `numpy.linalg.eigvalsh` and `numpy.exp` functions."
      ],
      "metadata": {
        "id": "_55CWXiC7Mif"
      }
    },
    {
      "cell_type": "code",
      "execution_count": null,
      "metadata": {
        "id": "w7AceIuSugs8"
      },
      "outputs": [],
      "source": [
        ""
      ]
    },
    {
      "cell_type": "markdown",
      "metadata": {
        "id": "hvJOlaXjugs8"
      },
      "source": [
        "# Task 4 - Optimal Assignment Kernel"
      ]
    },
    {
      "cell_type": "markdown",
      "source": [
        "Show that the construction\n",
        "$$ [H^k (X)]_v = \\Big(w(v) − w\\big(parent(v)\\big)\\Big) × |X_v| $$\n",
        "on Slide 20 of Lecture 9 defines a histogram for any hierarchy $H$."
      ],
      "metadata": {
        "id": "SJPwc7lz7ewT"
      }
    },
    {
      "cell_type": "code",
      "execution_count": null,
      "metadata": {
        "id": "iw4TOt7mugs9"
      },
      "outputs": [],
      "source": [
        ""
      ]
    },
    {
      "cell_type": "markdown",
      "metadata": {
        "id": "DUn-5h4Ougs9"
      },
      "source": [
        "# Task 5 - Weisfeiler Lehman Optimal Assignment Kernel"
      ]
    },
    {
      "cell_type": "markdown",
      "metadata": {
        "id": "7eg7spRVugs-"
      },
      "source": [
        "## Task 5.1\n",
        "Implement the Weisfeiler Lehman Optimal Assignment Kernel (using the formulation on Slide 20 of Lecture 9)."
      ]
    },
    {
      "cell_type": "code",
      "execution_count": null,
      "metadata": {
        "id": "HpwjcyIpugs-"
      },
      "outputs": [],
      "source": [
        ""
      ]
    },
    {
      "cell_type": "markdown",
      "metadata": {
        "id": "GQaMbQncugs-"
      },
      "source": [
        "## Task 5.2\n",
        "Apply the Weisfeiler Lehman Optimal Assignment Kernel on the DHFR\n",
        "dataset for a depth of $k = 3$. Compare its classification performance to that of the ordinary Weisfeiler Lehman subtree kernel of the same depth $k = 3$."
      ]
    },
    {
      "cell_type": "markdown",
      "source": [
        "**Note:** You can compare the results of your implementation to that of the [grakel implementation](https://ysig.github.io/GraKeL/0.1a8/kernels/weisfeiler_lehman_optimal_assignment.html) of the Weisfeiler Lehman Optimal Assignment kernel, or just straight away apply this variant, if you are not interested in implementing it yourself."
      ],
      "metadata": {
        "id": "o6N8EXX571rD"
      }
    },
    {
      "cell_type": "code",
      "execution_count": null,
      "metadata": {
        "id": "uWsMNmKOugs_"
      },
      "outputs": [],
      "source": [
        ""
      ]
    }
  ],
  "metadata": {
    "kernelspec": {
      "display_name": "Python 3",
      "language": "python",
      "name": "python3"
    },
    "language_info": {
      "codemirror_mode": {
        "name": "ipython",
        "version": 3
      },
      "file_extension": ".py",
      "mimetype": "text/x-python",
      "name": "python",
      "nbconvert_exporter": "python",
      "pygments_lexer": "ipython3",
      "version": "3.8.8"
    },
    "colab": {
      "name": "GRL_test_exam.ipynb",
      "provenance": [],
      "include_colab_link": true
    }
  },
  "nbformat": 4,
  "nbformat_minor": 0
}